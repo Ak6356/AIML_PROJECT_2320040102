{
  "nbformat": 4,
  "nbformat_minor": 0,
  "metadata": {
    "colab": {
      "provenance": []
    },
    "kernelspec": {
      "name": "python3",
      "display_name": "Python 3"
    },
    "language_info": {
      "name": "python"
    }
  },
  "cells": [
    {
      "cell_type": "markdown",
      "source": [
        "UNINFORMED SERACH\n",
        "\n",
        "BFS-Breadth First Serach\n"
      ],
      "metadata": {
        "id": "E2-D-4l7gtqN"
      }
    },
    {
      "cell_type": "code",
      "source": [
        "from collections import deque\n",
        "\n",
        "def bfs(graph, start):\n",
        "    # Initialize the queue with the start node\n",
        "    queue = deque([start])\n",
        "\n",
        "    # Keep track of visited nodes to avoid reprocessing\n",
        "    visited = set()\n",
        "    visited.add(start)\n",
        "\n",
        "    while queue:\n",
        "        # Dequeue a node from the front of the queue\n",
        "        current = queue.popleft()\n",
        "\n",
        "        # Process the current node\n",
        "        print(current)\n",
        "\n",
        "        # Enqueue all unvisited neighbors of the current node\n",
        "        for neighbor in graph[current]:\n",
        "            if neighbor not in visited:\n",
        "                visited.add(neighbor)\n",
        "                queue.append(neighbor)\n",
        "\n",
        "# Example graph represented as an adjacency list\n",
        "graph = {\n",
        "    'A': ['B', 'C'],\n",
        "    'B': ['A', 'D', 'E'],\n",
        "    'C': ['A', 'F'],\n",
        "    'D': ['B'],\n",
        "    'E': ['B', 'F'],\n",
        "    'F': ['C', 'E']\n",
        "}\n",
        "\n",
        "# Perform BFS starting from node 'A'\n",
        "bfs(graph, 'A')\n"
      ],
      "metadata": {
        "colab": {
          "base_uri": "https://localhost:8080/"
        },
        "id": "ZNMUE0Eig0I0",
        "outputId": "c3d31fee-5220-428b-e528-d63edb300535"
      },
      "execution_count": 1,
      "outputs": [
        {
          "output_type": "stream",
          "name": "stdout",
          "text": [
            "A\n",
            "B\n",
            "C\n",
            "D\n",
            "E\n",
            "F\n"
          ]
        }
      ]
    },
    {
      "cell_type": "markdown",
      "source": [
        "DFS-Depth First Search\n"
      ],
      "metadata": {
        "id": "cRgPAcu8hDFl"
      }
    },
    {
      "cell_type": "code",
      "source": [
        "def dfs_iterative(graph, start):\n",
        "    # Initialize the stack with the start node\n",
        "    stack = [start]\n",
        "\n",
        "    # Keep track of visited nodes to avoid reprocessing\n",
        "    visited = set()\n",
        "    visited.add(start)\n",
        "\n",
        "    while stack:\n",
        "        # Pop a node from the top of the stack\n",
        "        current = stack.pop()\n",
        "\n",
        "        # Process the current node\n",
        "        print(current)\n",
        "\n",
        "        # Push all unvisited neighbors of the current node onto the stack\n",
        "        for neighbor in reversed(graph[current]):\n",
        "            if neighbor not in visited:\n",
        "                visited.add(neighbor)\n",
        "                stack.append(neighbor)\n",
        "\n",
        "# Example graph represented as an adjacency list\n",
        "graph = {\n",
        "    'A': ['B', 'C'],\n",
        "    'B': ['A', 'D', 'E'],\n",
        "    'C': ['A', 'F'],\n",
        "    'D': ['B'],\n",
        "    'E': ['B', 'F'],\n",
        "    'F': ['C', 'E']\n",
        "}\n",
        "\n",
        "# Perform DFS starting from node 'A'\n",
        "dfs_iterative(graph, 'A')\n"
      ],
      "metadata": {
        "id": "QakWvzM_hF8k"
      },
      "execution_count": null,
      "outputs": []
    },
    {
      "cell_type": "markdown",
      "source": [
        "Iterative Deepening Search"
      ],
      "metadata": {
        "id": "mjFI_QL3hIz4"
      }
    },
    {
      "cell_type": "code",
      "source": [
        "def iterative_deepening_search(graph, start, goal):\n",
        "    depth = 0\n",
        "    while True:\n",
        "        result = depth_limited_search(graph, start, goal, depth)\n",
        "        if result is not None:\n",
        "            return result\n",
        "        depth += 1\n",
        "\n",
        "def depth_limited_search(graph, start, goal, limit):\n",
        "    def recursive_dls(node, depth):\n",
        "        if depth == 0:\n",
        "            if node == goal:\n",
        "                return [node]\n",
        "            else:\n",
        "                return None\n",
        "        elif depth > 0:\n",
        "            for neighbor in graph[node]:\n",
        "                if neighbor not in visited:\n",
        "                    visited.add(neighbor)\n",
        "                    path = recursive_dls(neighbor, depth - 1)\n",
        "                    if path is not None:\n",
        "                        return [node] + path\n",
        "        return None\n",
        "\n",
        "    visited = set()\n",
        "    return recursive_dls(start, limit)\n",
        "\n",
        "# Example graph represented as an adjacency list\n",
        "graph = {\n",
        "    'A': ['B', 'C'],\n",
        "    'B': ['A', 'D', 'E'],\n",
        "    'C': ['A', 'F'],\n",
        "    'D': ['B'],\n",
        "    'E': ['B', 'F'],\n",
        "    'F': ['C', 'E']\n",
        "}\n",
        "\n",
        "# Perform Iterative Deepening Search from node 'A' to node 'F'\n",
        "path = iterative_deepening_search(graph, 'A', 'F')\n",
        "print(f\"The path from 'A' to 'F' is: {path}\")\n"
      ],
      "metadata": {
        "colab": {
          "base_uri": "https://localhost:8080/"
        },
        "id": "CocLmhAahLnm",
        "outputId": "d8e1ca4c-3c96-42df-d62a-0fd1288d5c76"
      },
      "execution_count": 2,
      "outputs": [
        {
          "output_type": "stream",
          "name": "stdout",
          "text": [
            "The path from 'A' to 'F' is: ['A', 'C', 'F']\n"
          ]
        }
      ]
    },
    {
      "cell_type": "markdown",
      "source": [
        "  INFORMED SEARCH\n",
        "\n",
        "  BFS-Best First Search\n"
      ],
      "metadata": {
        "id": "8y0x1WUUhPrc"
      }
    },
    {
      "cell_type": "code",
      "source": [
        "#BFS\n",
        "import heapq\n",
        "\n",
        "def best_first_search(graph, start, goal, heuristic):\n",
        "    # Priority queue to store nodes to explore, prioritized by the heuristic value\n",
        "    open_list = []\n",
        "    heapq.heappush(open_list, (heuristic[start], start))\n",
        "\n",
        "    # Set to keep track of visited nodes\n",
        "    visited = set()\n",
        "\n",
        "    # Dictionary to store the path\n",
        "    parent = {start: None}\n",
        "\n",
        "    while open_list:\n",
        "        # Pop the node with the lowest heuristic value\n",
        "        _, current = heapq.heappop(open_list)\n",
        "\n",
        "        # If the goal is reached, reconstruct the path\n",
        "        if current == goal:\n",
        "            path = []\n",
        "            while current:\n",
        "                path.append(current)\n",
        "                current = parent[current]\n",
        "            return path[::-1]  # Reverse the path to get the correct order\n",
        "\n",
        "        # Mark the node as visited\n",
        "        visited.add(current)\n",
        "\n",
        "        # Explore neighbors of the current node\n",
        "        for neighbor, cost in graph[current]:\n",
        "            if neighbor not in visited:\n",
        "                parent[neighbor] = current\n",
        "                heapq.heappush(open_list, (heuristic[neighbor], neighbor))\n",
        "\n",
        "    # If the goal is not reached, return an empty list\n",
        "    return []\n",
        "\n",
        "# Example usage:\n",
        "graph = {\n",
        "    'A': [('B', 1), ('C', 3), ('D', 7)],\n",
        "    'B': [('E', 1), ('F', 4)],\n",
        "    'C': [('G', 5)],\n",
        "    'D': [('H', 2)],\n",
        "    'E': [],\n",
        "    'F': [],\n",
        "    'G': [],\n",
        "    'H': []\n",
        "}\n",
        "\n",
        "# Heuristic values for each node (estimate of the cost to reach the goal)\n",
        "heuristic = {\n",
        "    'A': 7,\n",
        "    'B': 6,\n",
        "    'C': 4,\n",
        "    'D': 3,\n",
        "    'E': 6,\n",
        "    'F': 2,\n",
        "    'G': 0,  # The goal node should have a heuristic of 0\n",
        "    'H': 2\n",
        "}\n",
        "\n",
        "start_node = 'A'\n",
        "goal_node = 'G'\n",
        "path = best_first_search(graph, start_node, goal_node, heuristic)\n",
        "\n",
        "if path:\n",
        "    print(f\"Path from {start_node} to {goal_node}: {' -> '.join(path)}\")\n",
        "else:\n",
        "    print(f\"No path found from {start_node} to {goal_node}.\")"
      ],
      "metadata": {
        "colab": {
          "base_uri": "https://localhost:8080/"
        },
        "id": "rx3ZnecmhdWe",
        "outputId": "6be3d052-380e-4cac-df22-cb3d605fb64c"
      },
      "execution_count": 3,
      "outputs": [
        {
          "output_type": "stream",
          "name": "stdout",
          "text": [
            "Path from A to G: A -> C -> G\n"
          ]
        }
      ]
    },
    {
      "cell_type": "markdown",
      "source": [],
      "metadata": {
        "id": "dTUH_D50i616"
      }
    },
    {
      "cell_type": "markdown",
      "source": [
        "A* Search\n"
      ],
      "metadata": {
        "id": "ppUFyAFbi9JU"
      }
    },
    {
      "cell_type": "code",
      "source": [
        "#A*\n",
        "import heapq\n",
        "\n",
        "def a_star(graph, start, goal, heuristic):\n",
        "    # Priority queue to store nodes to explore, with their current cost + heuristic value\n",
        "    open_list = []\n",
        "    heapq.heappush(open_list, (0 + heuristic[start], start))\n",
        "\n",
        "    # Dictionary to store the cost from the start to each node\n",
        "    g_cost = {start: 0}\n",
        "\n",
        "    # Dictionary to store the best path (parent pointers)\n",
        "    parent = {start: None}\n",
        "\n",
        "    while open_list:\n",
        "        # Pop the node with the lowest f_cost (g_cost + heuristic) from the queue\n",
        "        _, current = heapq.heappop(open_list)\n",
        "\n",
        "        # If the goal is reached, reconstruct the path\n",
        "        if current == goal:\n",
        "            path = []\n",
        "            while current:\n",
        "                path.append(current)\n",
        "                current = parent[current]\n",
        "            return path[::-1]  # Reverse the path to get the correct order\n",
        "\n",
        "        # Explore neighbors of the current node\n",
        "        for neighbor, cost in graph[current]:\n",
        "            tentative_g_cost = g_cost[current] + cost\n",
        "\n",
        "            # If this path to neighbor is shorter, or neighbor is not explored yet\n",
        "            if neighbor not in g_cost or tentative_g_cost < g_cost[neighbor]:\n",
        "                g_cost[neighbor] = tentative_g_cost\n",
        "                f_cost = tentative_g_cost + heuristic[neighbor]\n",
        "                heapq.heappush(open_list, (f_cost, neighbor))\n",
        "                parent[neighbor] = current\n",
        "\n",
        "    # If the goal is not reached, return an empty list\n",
        "    return []\n",
        "\n",
        "# Example usage:\n",
        "graph = {\n",
        "    'A': [('B', 1), ('C', 3), ('D', 7)],\n",
        "    'B': [('E', 1), ('F', 4)],\n",
        "    'C': [('G', 5)],\n",
        "    'D': [('H', 2)],\n",
        "    'E': [],\n",
        "    'F': [],\n",
        "    'G': [],\n",
        "    'H': []\n",
        "}\n",
        "\n",
        "# Heuristic values for each node (estimate of the cost to reach the goal)\n",
        "heuristic = {\n",
        "    'A': 7,\n",
        "    'B': 6,\n",
        "    'C': 4,\n",
        "    'D': 3,\n",
        "    'E': 6,\n",
        "    'F': 2,\n",
        "    'G': 0,  # The goal node should have a heuristic of 0\n",
        "    'H': 2\n",
        "}\n",
        "\n",
        "start_node = 'A'\n",
        "goal_node = 'G'\n",
        "path = a_star(graph, start_node, goal_node, heuristic)\n",
        "\n",
        "if path:\n",
        "    print(f\"Path from {start_node} to {goal_node}: {' -> '.join(path)}\")\n",
        "else:\n",
        "    print(f\"No path found from {start_node} to {goal_node}.\")"
      ],
      "metadata": {
        "colab": {
          "base_uri": "https://localhost:8080/"
        },
        "id": "k-deXh31jA-s",
        "outputId": "9aa31a4e-94f2-4305-b560-5f1baabffda7"
      },
      "execution_count": 4,
      "outputs": [
        {
          "output_type": "stream",
          "name": "stdout",
          "text": [
            "Path from A to G: A -> C -> G\n"
          ]
        }
      ]
    },
    {
      "cell_type": "markdown",
      "source": [
        "Adversal Search\n"
      ],
      "metadata": {
        "id": "luBiTx8rjHJh"
      }
    },
    {
      "cell_type": "markdown",
      "source": [
        "MIN MAX\n"
      ],
      "metadata": {
        "id": "TUroucRVjR3_"
      }
    },
    {
      "cell_type": "code",
      "source": [
        "import math\n",
        "\n",
        "# Constants representing players\n",
        "PLAYER_X = \"X\"\n",
        "PLAYER_O = \"O\"\n",
        "EMPTY = None\n",
        "\n",
        "def is_terminal_state(board):\n",
        "    # Check for a win\n",
        "    winning_combinations = [\n",
        "        [board[0][0], board[0][1], board[0][2]],\n",
        "        [board[1][0], board[1][1], board[1][2]],\n",
        "        [board[2][0], board[2][1], board[2][2]],\n",
        "        [board[0][0], board[1][0], board[2][0]],\n",
        "        [board[0][1], board[1][1], board[2][1]],\n",
        "        [board[0][2], board[1][2], board[2][2]],\n",
        "        [board[0][0], board[1][1], board[2][2]],\n",
        "        [board[0][2], board[1][1], board[2][0]],\n",
        "    ]\n",
        "\n",
        "    for combo in winning_combinations:\n",
        "        if combo[0] == combo[1] == combo[2] and combo[0] is not None:\n",
        "            return combo[0]\n",
        "\n",
        "    # Check for a draw\n",
        "    if all(cell is not None for row in board for cell in row):\n",
        "        return \"Draw\"\n",
        "\n",
        "    return None\n",
        "\n",
        "def minimax(board, depth, is_maximizing_player, alpha, beta):\n",
        "    winner = is_terminal_state(board)\n",
        "    if winner == PLAYER_X:\n",
        "        return 1\n",
        "    elif winner == PLAYER_O:\n",
        "        return -1\n",
        "    elif winner == \"Draw\":\n",
        "        return 0\n",
        "\n",
        "    if is_maximizing_player:\n",
        "        max_eval = -math.inf\n",
        "        for i in range(3):\n",
        "            for j in range(3):\n",
        "                if board[i][j] is None:\n",
        "                    board[i][j] = PLAYER_X\n",
        "                    eval = minimax(board, depth + 1, False, alpha, beta)\n",
        "                    board[i][j] = None\n",
        "                    max_eval = max(max_eval, eval)\n",
        "                    alpha = max(alpha, eval)\n",
        "                    if beta <= alpha:\n",
        "                        break\n",
        "        return max_eval\n",
        "    else:\n",
        "        min_eval = math.inf\n",
        "        for i in range(3):\n",
        "            for j in range(3):\n",
        "                if board[i][j] is None:\n",
        "                    board[i][j] = PLAYER_O\n",
        "                    eval = minimax(board, depth + 1, True, alpha, beta)\n",
        "                    board[i][j] = None\n",
        "                    min_eval = min(min_eval, eval)\n",
        "                    beta = min(beta, eval)\n",
        "                    if beta <= alpha:\n",
        "                        break\n",
        "        return min_eval\n",
        "\n",
        "def best_move(board):\n",
        "    best_value = -math.inf\n",
        "    move = None\n",
        "    for i in range(3):\n",
        "        for j in range(3):\n",
        "            if board[i][j] is None:\n",
        "                board[i][j] = PLAYER_X\n",
        "                move_value = minimax(board, 0, False, -math.inf, math.inf)\n",
        "                board[i][j] = None\n",
        "                if move_value > best_value:\n",
        "                    best_value = move_value\n",
        "                    move = (i, j)\n",
        "    return move\n",
        "\n",
        "# Example board (Player X's turn)\n",
        "board = [\n",
        "    [PLAYER_X, PLAYER_O, PLAYER_X],\n",
        "    [PLAYER_X, PLAYER_O, None],\n",
        "    [None, None, PLAYER_O]\n",
        "]\n",
        "\n",
        "# Get the best move for Player X\n",
        "move = best_move(board)\n",
        "print(f\"The best move for Player X is at position: {move}\")\n"
      ],
      "metadata": {
        "colab": {
          "base_uri": "https://localhost:8080/"
        },
        "id": "T7NcpZdijiyD",
        "outputId": "58327438-7d16-4165-ac6e-c334aac7c92c"
      },
      "execution_count": 5,
      "outputs": [
        {
          "output_type": "stream",
          "name": "stdout",
          "text": [
            "The best move for Player X is at position: (2, 0)\n"
          ]
        }
      ]
    },
    {
      "cell_type": "markdown",
      "source": [
        "Alpha beta Pruning\n"
      ],
      "metadata": {
        "id": "-xJYhyvyjkmI"
      }
    },
    {
      "cell_type": "code",
      "source": [
        "# ALPHA BETA PRUNING\n",
        "import math\n",
        "\n",
        "# Function to print the board\n",
        "def print_board(board):\n",
        "    for row in board:\n",
        "        print(\" | \".join(row))\n",
        "        print(\"-\" * 5)\n",
        "\n",
        "# Function to check if there are any moves left on the board\n",
        "def is_moves_left(board):\n",
        "    for row in board:\n",
        "        if ' ' in row:\n",
        "            return True\n",
        "    return False\n",
        "\n",
        "# Function to evaluate the board and return a score\n",
        "def evaluate(board):\n",
        "    # Check rows for a win\n",
        "    for row in board:\n",
        "        if row[0] == row[1] == row[2]:\n",
        "            if row[0] == 'X':\n",
        "                return 10\n",
        "            elif row[0] == 'O':\n",
        "                return -10\n",
        "\n",
        "    # Check columns for a win\n",
        "    for col in range(3):\n",
        "        if board[0][col] == board[1][col] == board[2][col]:\n",
        "            if board[0][col] == 'X':\n",
        "                return 10\n",
        "            elif board[0][col] == 'O':\n",
        "                return -10\n",
        "\n",
        "    # Check diagonals for a win\n",
        "    if board[0][0] == board[1][1] == board[2][2]:\n",
        "        if board[0][0] == 'X':\n",
        "            return 10\n",
        "        elif board[0][0] == 'O':\n",
        "            return -10\n",
        "\n",
        "    if board[0][2] == board[1][1] == board[2][0]:\n",
        "        if board[0][2] == 'X':\n",
        "            return 10\n",
        "        elif board[0][2] == 'O':\n",
        "            return -10\n",
        "\n",
        "    # If no one has won, return 0\n",
        "    return 0\n",
        "\n",
        "# Minimax function with Alpha-Beta Pruning\n",
        "def minimax_alpha_beta(board, depth, alpha, beta, is_max):\n",
        "    score = evaluate(board)\n",
        "\n",
        "    # If Maximizer has won the game, return score\n",
        "    if score == 10:\n",
        "        return score - depth\n",
        "\n",
        "    # If Minimizer has won the game, return score\n",
        "    if score == -10:\n",
        "        return score + depth\n",
        "\n",
        "    # If there are no more moves and no winner, it's a draw\n",
        "    if not is_moves_left(board):\n",
        "        return 0\n",
        "\n",
        "    if is_max:\n",
        "        best = -math.inf\n",
        "\n",
        "        # Traverse all cells\n",
        "        for i in range(3):\n",
        "            for j in range(3):\n",
        "                # Check if the cell is empty\n",
        "                if board[i][j] == ' ':\n",
        "                    # Make the move\n",
        "                    board[i][j] = 'X'\n",
        "\n",
        "                    # Call minimax recursively and choose the maximum value\n",
        "                    best = max(best, minimax_alpha_beta(board, depth + 1, alpha, beta, False))\n",
        "\n",
        "                    # Undo the move\n",
        "                    board[i][j] = ' '\n",
        "\n",
        "                    # Alpha Beta Pruning\n",
        "                    alpha = max(alpha, best)\n",
        "                    if beta <= alpha:\n",
        "                        break\n",
        "\n",
        "        return best\n",
        "\n",
        "    else:\n",
        "        best = math.inf\n",
        "\n",
        "        # Traverse all cells\n",
        "        for i in range(3):\n",
        "            for j in range(3):\n",
        "                # Check if the cell is empty\n",
        "                if board[i][j] == ' ':\n",
        "                    # Make the move\n",
        "                    board[i][j] = 'O'\n",
        "\n",
        "                    # Call minimax recursively and choose the minimum value\n",
        "                    best = min(best, minimax_alpha_beta(board, depth + 1, alpha, beta, True))\n",
        "\n",
        "                    # Undo the move\n",
        "                    board[i][j] = ' '\n",
        "\n",
        "                    # Alpha Beta Pruning\n",
        "                    beta = min(beta, best)\n",
        "                    if beta <= alpha:\n",
        "                        break\n",
        "\n",
        "        return best\n",
        "\n",
        "# Function to find the best move for the AI\n",
        "def find_best_move_alpha_beta(board):\n",
        "    best_val = -math.inf\n",
        "    best_move = (-1, -1)\n",
        "\n",
        "    # Traverse all cells, evaluate minimax function for all empty cells, and return the cell with the optimal value\n",
        "    for i in range(3):\n",
        "        for j in range(3):\n",
        "            # Check if the cell is empty\n",
        "            if board[i][j] == ' ':\n",
        "                # Make the move\n",
        "                board[i][j] = 'X'\n",
        "\n",
        "                # Compute evaluation function for this move\n",
        "                move_val = minimax_alpha_beta(board, 0, -math.inf, math.inf, False)\n",
        "\n",
        "                # Undo the move\n",
        "                board[i][j] = ' '\n",
        "\n",
        "                # If the value of the current move is more than the best value, update best\n",
        "                if move_val > best_val:\n",
        "                    best_move = (i, j)\n",
        "                    best_val = move_val\n",
        "\n",
        "    return best_move\n",
        "\n",
        "# Example usage\n",
        "board = [\n",
        "    ['X', 'O', 'X'],\n",
        "    ['O', 'O', 'X'],\n",
        "    [' ', ' ', ' ']\n",
        "]\n",
        "\n",
        "print(\"Current Board:\")\n",
        "print_board(board)\n",
        "\n",
        "best_move = find_best_move_alpha_beta(board)\n",
        "print(f\"The best move for 'X' is at position: {best_move}\")"
      ],
      "metadata": {
        "colab": {
          "base_uri": "https://localhost:8080/"
        },
        "id": "Hirl4_QMjshN",
        "outputId": "43368c77-b8c5-4e8b-f0d3-89ca1057d447"
      },
      "execution_count": 6,
      "outputs": [
        {
          "output_type": "stream",
          "name": "stdout",
          "text": [
            "Current Board:\n",
            "X | O | X\n",
            "-----\n",
            "O | O | X\n",
            "-----\n",
            "  |   |  \n",
            "-----\n",
            "The best move for 'X' is at position: (2, 2)\n"
          ]
        }
      ]
    }
  ]
}